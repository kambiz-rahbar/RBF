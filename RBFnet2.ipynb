{
 "cells": [
  {
   "cell_type": "code",
   "execution_count": 1,
   "metadata": {},
   "outputs": [],
   "source": [
    "import numpy as np                                                             # numerical calculation\n",
    "import matplotlib.pyplot as plt                                                # plotting\n",
    "import tensorflow as tf                                                        # load neural network lib\n",
    "from tensorflow.keras.initializers import Initializer                          # initiation for RBF kernels\n",
    "from tensorflow.keras.layers import Layer                                      # different layers provided by keras\n",
    "from tensorflow.keras.initializers import RandomUniform, Initializer, Constant # tensorflow initializers"
   ]
  },
  {
   "cell_type": "code",
   "execution_count": 2,
   "metadata": {},
   "outputs": [],
   "source": [
    "# create centers given two dimensional peaks\n",
    "\n",
    "# Peak generator\n",
    "class CustomPeaks(Initializer):\n",
    "    def __init__(self, mu1, mu2):\n",
    "        # save the centers\n",
    "        self.mu1 = mu1\n",
    "        self.mu2 = mu2\n",
    "        super().__init__()\n",
    "    \n",
    "    def __call__(self, shape, dtype=None):\n",
    "        # combine and return centers as float\n",
    "        outs = np.c_[self.mu1, self.mu2]\n",
    "        return tf.convert_to_tensor(outs, dtype=\"float\")\n",
    "\n",
    "# select the centers randomly\n",
    "class InitCentersRandom(Initializer):\n",
    "    \"\"\" Initializer for initialization of centers of RBF network\n",
    "        as random samples from the given data set.\n",
    "\n",
    "    # Arguments\n",
    "        X: matrix, dataset to choose the centers from (random rows\n",
    "          are taken as centers)\n",
    "    \"\"\"\n",
    "\n",
    "    def __init__(self, X):\n",
    "        self.X = X\n",
    "        super().__init__()\n",
    "\n",
    "    def __call__(self, shape, dtype=None):\n",
    "        assert shape[1:] == self.X.shape[1:]  # check dimension\n",
    "\n",
    "        # np.random.randint returns ints from [low, high) !\n",
    "        idx = np.random.randint(self.X.shape[0], size=shape[0])\n",
    "\n",
    "        return self.X[idx, :]\n",
    "\n",
    "\n",
    "# rbf layer definition\n",
    "class RBFLayer(Layer):\n",
    "    \"\"\" Layer of Gaussian RBF units.\n",
    "\n",
    "    # Example\n",
    "\n",
    "    ```python\n",
    "        model = Sequential()\n",
    "        model.add(RBFLayer(10,\n",
    "                           initializer=InitCentersRandom(X),\n",
    "                           betas=1.0,\n",
    "                           input_shape=(1,)))\n",
    "        model.add(Dense(1))\n",
    "    ```\n",
    "\n",
    "\n",
    "    # Arguments\n",
    "        output_dim: number of hidden units (i.e. number of outputs of the\n",
    "                    layer)\n",
    "        initializer: instance of initiliazer to initialize centers\n",
    "        betas: float, initial value for betas\n",
    "\n",
    "    \"\"\"\n",
    "\n",
    "    def __init__(self, output_dim, initializer=None, betas=1.0, **kwargs):\n",
    "\n",
    "        self.output_dim = output_dim\n",
    "\n",
    "        # betas is either initializer object or float\n",
    "        if isinstance(betas, Initializer):\n",
    "            self.betas_initializer = betas\n",
    "        else:\n",
    "            self.betas_initializer = Constant(value=betas)\n",
    "\n",
    "        # of there is no initializer use the RandomUniform function\n",
    "        self.initializer = initializer if initializer else RandomUniform(\n",
    "            0.0, 1.0)\n",
    "\n",
    "        super().__init__(**kwargs)\n",
    "\n",
    "    # builds the layer \n",
    "    def build(self, input_shape):\n",
    "\n",
    "        # add the center and bias weights using inits\n",
    "        self.centers = self.add_weight(name='centers',\n",
    "                                       shape=(self.output_dim, input_shape[1]),\n",
    "                                       initializer=self.initializer,\n",
    "                                       trainable=False)\n",
    "        self.betas = self.add_weight(name='betas',\n",
    "                                     shape=(self.output_dim,),\n",
    "                                     initializer=self.betas_initializer,\n",
    "                                     # initializer='ones',\n",
    "                                     trainable=False)\n",
    "\n",
    "        super().build(input_shape)\n",
    "\n",
    "    # this is called when the RBF layer is used on data\n",
    "    def call(self, x):\n",
    "\n",
    "        C = tf.expand_dims(self.centers, -1)  # inserts a dimension of 1\n",
    "        H = tf.transpose(C-tf.transpose(x))  # matrix of differences\n",
    "        return tf.exp(-self.betas * tf.math.reduce_sum(H**2, axis=1))\n",
    "\n",
    "    # calculate outputshape based on input shape\n",
    "    def compute_output_shape(self, input_shape):\n",
    "        return (input_shape[0], self.output_dim)\n",
    "\n",
    "    # have to define get_config to be able to use model_from_json\n",
    "    def get_config(self):\n",
    "        config = {\n",
    "            'output_dim': self.output_dim\n",
    "        }\n",
    "        base_config = super().get_config()\n",
    "        return dict(list(base_config.items()) + list(config.items()))"
   ]
  },
  {
   "cell_type": "code",
   "execution_count": 9,
   "metadata": {},
   "outputs": [],
   "source": [
    "def get_model():\n",
    "    # seq model\n",
    "    model = tf.keras.models.Sequential()\n",
    "    model.add(rbflayer)\n",
    "    # classification layer\n",
    "    model.add(tf.keras.layers.Dense(units=2, activation='linear'))\n",
    "    #model.add(tf.keras.layers.Dense(units=1, activation=\"sigmoid\", kernel_initializer=\"he_normal\", name=\"Final_dense\"))\n",
    "    # compile with mse loss and sgd optimizer\n",
    "    model.compile(optimizer='sgd', loss='mean_squared_error')\n",
    "    model.summary()\n",
    "    return model"
   ]
  },
  {
   "cell_type": "code",
   "execution_count": 10,
   "metadata": {
    "id": "qlUT8m_ug7fY"
   },
   "outputs": [
    {
     "name": "stdout",
     "output_type": "stream",
     "text": [
      "(4, 2)\n",
      "(4,)\n"
     ]
    }
   ],
   "source": [
    "# XOR DATA\n",
    "x1 = np.array([0, 0, 1, 1])\n",
    "x2 = np.array([0, 1, 0, 1])\n",
    "X = np.c_[x1, x2]\n",
    "X = X.astype(\"float\") # convert type to float for tensorflow\n",
    "\n",
    "# create labels\n",
    "T = np.array([0, 1, 1, 0])\n",
    "T = T.astype(\"float\")\n",
    "\n",
    "print(X.shape)\n",
    "print(T.shape)"
   ]
  },
  {
   "cell_type": "code",
   "execution_count": 11,
   "metadata": {
    "id": "96pCD9Knjtv1"
   },
   "outputs": [
    {
     "name": "stdout",
     "output_type": "stream",
     "text": [
      "Model: \"sequential_2\"\n",
      "_________________________________________________________________\n",
      "Layer (type)                 Output Shape              Param #   \n",
      "=================================================================\n",
      "RFB_layer (RBFLayer)         (None, 2)                 6         \n",
      "_________________________________________________________________\n",
      "dense_1 (Dense)              (None, 2)                 6         \n",
      "=================================================================\n",
      "Total params: 12\n",
      "Trainable params: 6\n",
      "Non-trainable params: 6\n",
      "_________________________________________________________________\n"
     ]
    }
   ],
   "source": [
    "# Create RBF using tensorflow***\n",
    "\n",
    "# centers initiation for 2 neurons\n",
    "mu1 = np.array([0, 1])\n",
    "mu2 = np.array([1, 0])\n",
    "\n",
    "# create the rbf layer from the class we created above\n",
    "rbflayer = RBFLayer(2, initializer=CustomPeaks(mu1, mu2), betas=0.5, input_shape=(2,), name=\"RFB_layer\")\n",
    "\n",
    "# see network params\n",
    "net = get_model()"
   ]
  },
  {
   "cell_type": "code",
   "execution_count": 12,
   "metadata": {
    "id": "wscSM1u9jyAs"
   },
   "outputs": [
    {
     "name": "stdout",
     "output_type": "stream",
     "text": [
      "Epoch 1/20\n",
      "1/1 [==============================] - 0s 280ms/step - loss: 0.9406\n",
      "Epoch 2/20\n",
      "1/1 [==============================] - 0s 3ms/step - loss: 0.9162\n",
      "Epoch 3/20\n",
      "1/1 [==============================] - 0s 6ms/step - loss: 0.8926\n",
      "Epoch 4/20\n",
      "1/1 [==============================] - 0s 3ms/step - loss: 0.8699\n",
      "Epoch 5/20\n",
      "1/1 [==============================] - 0s 4ms/step - loss: 0.8481\n",
      "Epoch 6/20\n",
      "1/1 [==============================] - 0s 8ms/step - loss: 0.8270\n",
      "Epoch 7/20\n",
      "1/1 [==============================] - 0s 5ms/step - loss: 0.8067\n",
      "Epoch 8/20\n",
      "1/1 [==============================] - 0s 8ms/step - loss: 0.7871\n",
      "Epoch 9/20\n",
      "1/1 [==============================] - 0s 5ms/step - loss: 0.7683\n",
      "Epoch 10/20\n",
      "1/1 [==============================] - 0s 4ms/step - loss: 0.7501\n",
      "Epoch 11/20\n",
      "1/1 [==============================] - 0s 4ms/step - loss: 0.7326\n",
      "Epoch 12/20\n",
      "1/1 [==============================] - 0s 9ms/step - loss: 0.7157\n",
      "Epoch 13/20\n",
      "1/1 [==============================] - 0s 4ms/step - loss: 0.6994\n",
      "Epoch 14/20\n",
      "1/1 [==============================] - 0s 4ms/step - loss: 0.6837\n",
      "Epoch 15/20\n",
      "1/1 [==============================] - 0s 3ms/step - loss: 0.6686\n",
      "Epoch 16/20\n",
      "1/1 [==============================] - 0s 3ms/step - loss: 0.6540\n",
      "Epoch 17/20\n",
      "1/1 [==============================] - 0s 3ms/step - loss: 0.6400\n",
      "Epoch 18/20\n",
      "1/1 [==============================] - 0s 2ms/step - loss: 0.6264\n",
      "Epoch 19/20\n",
      "1/1 [==============================] - 0s 3ms/step - loss: 0.6134\n",
      "Epoch 20/20\n",
      "1/1 [==============================] - 0s 3ms/step - loss: 0.6008\n"
     ]
    },
    {
     "data": {
      "text/plain": [
       "<keras.callbacks.History at 0x7fca39204340>"
      ]
     },
     "execution_count": 12,
     "metadata": {},
     "output_type": "execute_result"
    }
   ],
   "source": [
    "# do training\n",
    "net.fit(X, T, epochs=20, verbose=1)"
   ]
  },
  {
   "cell_type": "code",
   "execution_count": 13,
   "metadata": {
    "colab": {
     "base_uri": "https://localhost:8080/"
    },
    "id": "f17rRbcrvN1y",
    "outputId": "6e5b2223-67ac-4765-ad3c-755bcba8c7df"
   },
   "outputs": [
    {
     "name": "stdout",
     "output_type": "stream",
     "text": [
      "1/1 [==============================] - 0s 100ms/step - loss: 0.5887\n"
     ]
    },
    {
     "data": {
      "text/plain": [
       "0.5887014269828796"
      ]
     },
     "execution_count": 13,
     "metadata": {},
     "output_type": "execute_result"
    }
   ],
   "source": [
    "net.evaluate(X, T) # Training Loss"
   ]
  },
  {
   "cell_type": "code",
   "execution_count": 14,
   "metadata": {
    "colab": {
     "base_uri": "https://localhost:8080/"
    },
    "id": "AAVdwacWj6uV",
    "outputId": "e85bc259-d3b4-4078-9e84-85aa759e1a34"
   },
   "outputs": [
    {
     "data": {
      "text/plain": [
       "array([[-0.13113295,  0.06940764],\n",
       "       [-0.4588065 , -0.02935679],\n",
       "       [ 0.12240374,  0.15874031],\n",
       "       [-0.13113295,  0.06940764]], dtype=float32)"
      ]
     },
     "execution_count": 14,
     "metadata": {},
     "output_type": "execute_result"
    }
   ],
   "source": [
    "net.predict(X)"
   ]
  },
  {
   "cell_type": "code",
   "execution_count": 15,
   "metadata": {
    "colab": {
     "base_uri": "https://localhost:8080/"
    },
    "id": "4IWLNUrOmRwc",
    "outputId": "bb9eed24-f280-419a-b7df-90d58770b9c4"
   },
   "outputs": [
    {
     "ename": "ValueError",
     "evalue": "cannot reshape array of size 20000 into shape (100,100)",
     "output_type": "error",
     "traceback": [
      "\u001b[0;31m---------------------------------------------------------------------------\u001b[0m",
      "\u001b[0;31mValueError\u001b[0m                                Traceback (most recent call last)",
      "\u001b[0;32m<ipython-input-15-233e8c4baaa1>\u001b[0m in \u001b[0;36m<module>\u001b[0;34m\u001b[0m\n\u001b[1;32m     10\u001b[0m \u001b[0;31m# predict the model\u001b[0m\u001b[0;34m\u001b[0m\u001b[0;34m\u001b[0m\u001b[0m\n\u001b[1;32m     11\u001b[0m \u001b[0mY\u001b[0m \u001b[0;34m=\u001b[0m \u001b[0mnet\u001b[0m\u001b[0;34m.\u001b[0m\u001b[0mpredict\u001b[0m\u001b[0;34m(\u001b[0m\u001b[0mXX\u001b[0m\u001b[0;34m)\u001b[0m\u001b[0;34m\u001b[0m\u001b[0;34m\u001b[0m\u001b[0m\n\u001b[0;32m---> 12\u001b[0;31m \u001b[0mY\u001b[0m \u001b[0;34m=\u001b[0m \u001b[0mY\u001b[0m\u001b[0;34m.\u001b[0m\u001b[0mreshape\u001b[0m\u001b[0;34m(\u001b[0m\u001b[0;36m100\u001b[0m\u001b[0;34m,\u001b[0m \u001b[0;36m100\u001b[0m\u001b[0;34m)\u001b[0m\u001b[0;34m\u001b[0m\u001b[0;34m\u001b[0m\u001b[0m\n\u001b[0m\u001b[1;32m     13\u001b[0m \u001b[0;34m\u001b[0m\u001b[0m\n\u001b[1;32m     14\u001b[0m \u001b[0;31m# find the decision boundary of the model\u001b[0m\u001b[0;34m\u001b[0m\u001b[0;34m\u001b[0m\u001b[0m\n",
      "\u001b[0;31mValueError\u001b[0m: cannot reshape array of size 20000 into shape (100,100)"
     ]
    }
   ],
   "source": [
    "# create the meshgrid with rules from the matlab code\n",
    "\n",
    "meshsteps = np.linspace(start=np.min(X)-3*Spread, stop=np.max(X)+3*Spread,\n",
    "                        num=861, retstep=False)\n",
    "x1, x2 = np.meshgrid(meshsteps, meshsteps)\n",
    "\n",
    "XX = np.array([x1.flatten(),\n",
    "               x2.flatten()])\n",
    "print(XX.shape)\n",
    "# reshape into transpose which is python format for neural networks\n",
    "XX = XX.T\n",
    "print(XX.shape)"
   ]
  },
  {
   "cell_type": "code",
   "execution_count": null,
   "metadata": {},
   "outputs": [],
   "source": []
  }
 ],
 "metadata": {
  "colab": {
   "name": "RBFnet2.ipynb",
   "provenance": []
  },
  "kernelspec": {
   "display_name": "Python 3",
   "language": "python",
   "name": "python3"
  },
  "language_info": {
   "codemirror_mode": {
    "name": "ipython",
    "version": 3
   },
   "file_extension": ".py",
   "mimetype": "text/x-python",
   "name": "python",
   "nbconvert_exporter": "python",
   "pygments_lexer": "ipython3",
   "version": "3.9.7"
  }
 },
 "nbformat": 4,
 "nbformat_minor": 1
}
